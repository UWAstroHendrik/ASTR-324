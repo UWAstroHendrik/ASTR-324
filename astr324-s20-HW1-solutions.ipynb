{
 "cells": [
  {
   "cell_type": "code",
   "execution_count": null,
   "metadata": {},
   "outputs": [],
   "source": [
    "hw_done = False    ## change this to True to mark your homework as done."
   ]
  },
  {
   "cell_type": "markdown",
   "metadata": {},
   "source": [
    "### ASTR-324, University of Washington\n",
    "# Homework 1\n",
    "\n",
    "## Problem 1\n",
    "\n",
    "Write a Python function named `monty_play` that simulates the Monty Hall Problem. Play $N=10000$ games and print the fraction of wins if the player keeps their initial selection vs. if they choose to switch.\n",
    "\n",
    "Extra credit: extend the function to work with any number of doors (not just 3)."
   ]
  },
  {
   "cell_type": "markdown",
   "metadata": {},
   "source": [
    "<br>\n",
    "# Solutions"
   ]
  },
  {
   "cell_type": "markdown",
   "metadata": {},
   "source": [
    "### Some useful definitions and functions"
   ]
  },
  {
   "cell_type": "code",
   "execution_count": 5,
   "metadata": {
    "collapsed": true
   },
   "outputs": [],
   "source": [
    "import numpy as np\n",
    "import numpy.random as rnd"
   ]
  },
  {
   "cell_type": "markdown",
   "metadata": {},
   "source": [
    "## Problem 1"
   ]
  },
  {
   "cell_type": "code",
   "execution_count": 6,
   "metadata": {
    "collapsed": true
   },
   "outputs": [],
   "source": [
    "def monty_play(should_switch):\n",
    "    #\n",
    "    # Plays a round of the Monty Hall problem with three doors.\n",
    "    #\n",
    "    # Randomly choose a door with the car, and the player's initial pick.\n",
    "    # Then eliminate one door, following the rules of the Monty Hall problem.\n",
    "    # Switch the player's pick to the other door if should_switch = True\n",
    "    #\n",
    "    # The function must return True if the player's final pick is the\n",
    "    # door with the car, and False otherwise.\n",
    "    #\n",
    "    doors = np.arange(3)\n",
    "\n",
    "    car = rnd.choice(doors)   # choose the door with the car\n",
    "    pick = rnd.choice(doors)  # choose the player's initial pick\n",
    "\n",
    "    eligible_doors = doors[(doors != car) & (doors != pick)]\n",
    "    goat = rnd.choice(eligible_doors) # host opens the door that has a goat\n",
    "\n",
    "    if should_switch:\n",
    "        eligible_doors = doors[(doors != goat) & (doors != pick)]\n",
    "        pick = rnd.choice(eligible_doors) # player switches their choice\n",
    "\n",
    "    return pick == car"
   ]
  },
  {
   "cell_type": "code",
   "execution_count": 7,
   "metadata": {},
   "outputs": [
    {
     "name": "stdout",
     "output_type": "stream",
     "text": [
      "Fraction of wins without switching: 0.3325\n",
      "Fraction of wins with switching:    0.6734\n"
     ]
    }
   ],
   "source": [
    "Ngames = 10000\n",
    "\n",
    "noSwitchWinsFraction = sum(monty_play(should_switch=False) for _ in range(Ngames)) / Ngames\n",
    "switchWinsFraction   = sum(monty_play(should_switch=True)  for _ in range(Ngames)) / Ngames\n",
    "\n",
    "print(f\"Fraction of wins without switching: {noSwitchWinsFraction}\")\n",
    "print(f\"Fraction of wins with switching:    {switchWinsFraction}\")"
   ]
  }
 ],
 "metadata": {
  "kernelspec": {
   "display_name": "Python 3",
   "language": "python",
   "name": "python3"
  },
  "language_info": {
   "codemirror_mode": {
    "name": "ipython",
    "version": 3
   },
   "file_extension": ".py",
   "mimetype": "text/x-python",
   "name": "python",
   "nbconvert_exporter": "python",
   "pygments_lexer": "ipython3",
   "version": "3.7.4"
  }
 },
 "nbformat": 4,
 "nbformat_minor": 2
}
