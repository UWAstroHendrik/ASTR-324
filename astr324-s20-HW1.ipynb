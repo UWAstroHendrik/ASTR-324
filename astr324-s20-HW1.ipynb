{
 "cells": [
  {
   "cell_type": "markdown",
   "metadata": {},
   "source": [
    "### ASTR-324, University of Washington\n",
    "# Homework 1\n",
    "\n",
    "## Problem 1\n",
    "\n",
    "Write a Python function named `monty_play` that simulates the Monty Hall Problem. Play $N=10000$ games and print the fraction of wins if the player keeps their initial selection vs. if they choose to switch.\n",
    "\n",
    "Extra credit: extend the function to work with any number of doors (not just 3)."
   ]
  },
  {
   "cell_type": "markdown",
   "metadata": {},
   "source": [
    "# Solutions"
   ]
  },
  {
   "cell_type": "markdown",
   "metadata": {},
   "source": [
    "### Some useful definitions and functions"
   ]
  },
  {
   "cell_type": "code",
   "execution_count": 58,
   "metadata": {},
   "outputs": [],
   "source": [
    "import numpy as np\n",
    "import pandas as pd\n",
    "import numpy.random as rnd\n",
    "import seaborn as sea\n",
    "import matplotlib.pyplot as plt"
   ]
  },
  {
   "cell_type": "markdown",
   "metadata": {},
   "source": [
    "## Problem 1"
   ]
  },
  {
   "cell_type": "code",
   "execution_count": 59,
   "metadata": {},
   "outputs": [],
   "source": [
    "def monty_hall(number_games, switch_door):\n",
    " \n",
    "    # win counter\n",
    "    win = 0\n",
    "    \n",
    "    # the prizes: one car, two goats\n",
    "    prizes = ['Car', 'Goat1', 'Goat2']\n",
    "    goat_prizes = prizes[1:3]\n",
    "    \n",
    "    #print(goat_prizes)\n",
    "    #output: ['Goat1', 'Goat2']\n",
    "\n",
    "    # play over number of games\n",
    "    for i in range(number_games):\n",
    "        \n",
    "        # distribution of prizes to doors at random\n",
    "        doors = np.random.choice(prizes, size = 3, replace = False)\n",
    "\n",
    "        # player pick first_choice at random\n",
    "        first_choice = np.random.randint(1,3)\n",
    "\n",
    "        # scenario 1: when player does switch_door \n",
    "        if switch_door:\n",
    "            if doors[first_choice] == 'Car':\n",
    "                reveal = np.random.choice(goat_prizes, size = 1)\n",
    "                reveal_door_position = np.where(doors == reveal)\n",
    "            elif doors[first_choice] == 'Goat1':\n",
    "                reveal_door_position = np.where(doors == 'Goat2')\n",
    "            elif doors[first_choice] == 'Goat2':\n",
    "                reveal_door_position = np.where(doors == 'Goat1')\n",
    "                \n",
    "            # player final_choice: delete first_choice and switches to remaining door along the axis[0]\n",
    "            final_choice = np.delete(doors, [first_choice, int(reveal_door_position[0])])\n",
    "\n",
    "        # scenario 2: when player does not switch_door\n",
    "        elif not switch_door:\n",
    "            \n",
    "            # player final_choice: stay with first_choice\n",
    "            final_choice = doors[first_choice]\n",
    "\n",
    "        # determine whether player has won based on final_choice\n",
    "        if final_choice == 'Car':\n",
    "            win = win + 1\n",
    "        \n",
    "    # return win count and frequency        \n",
    "    return win, win/number_games"
   ]
  },
  {
   "cell_type": "code",
   "execution_count": 60,
   "metadata": {},
   "outputs": [],
   "source": [
    "number_games = 10000\n",
    "np.random.seed(123)\n",
    "switch_count,switch_frequency = monty_hall(number_games, switch_door=True)\n",
    "no_switch_count,no_switch_frequency = monty_hall(number_games, switch_door=False)"
   ]
  },
  {
   "cell_type": "code",
   "execution_count": 61,
   "metadata": {},
   "outputs": [
    {
     "data": {
      "text/html": [
       "<div>\n",
       "<style scoped>\n",
       "    .dataframe tbody tr th:only-of-type {\n",
       "        vertical-align: middle;\n",
       "    }\n",
       "\n",
       "    .dataframe tbody tr th {\n",
       "        vertical-align: top;\n",
       "    }\n",
       "\n",
       "    .dataframe thead th {\n",
       "        text-align: right;\n",
       "    }\n",
       "</style>\n",
       "<table border=\"1\" class=\"dataframe\">\n",
       "  <thead>\n",
       "    <tr style=\"text-align: right;\">\n",
       "      <th></th>\n",
       "      <th>Winning_percentage</th>\n",
       "      <th>Switch_door</th>\n",
       "    </tr>\n",
       "  </thead>\n",
       "  <tbody>\n",
       "    <tr>\n",
       "      <th>0</th>\n",
       "      <td>66.29</td>\n",
       "      <td>Player does switch_door</td>\n",
       "    </tr>\n",
       "    <tr>\n",
       "      <th>1</th>\n",
       "      <td>33.27</td>\n",
       "      <td>Player does not switch_door</td>\n",
       "    </tr>\n",
       "  </tbody>\n",
       "</table>\n",
       "</div>"
      ],
      "text/plain": [
       "   Winning_percentage                  Switch_door\n",
       "0               66.29      Player does switch_door\n",
       "1               33.27  Player does not switch_door"
      ]
     },
     "execution_count": 61,
     "metadata": {},
     "output_type": "execute_result"
    }
   ],
   "source": [
    "results = pd.DataFrame({'Winning_percentage': [switch_frequency * 100, no_switch_frequency * 100],'Switch_door': ['True', 'False']})\n",
    "\n",
    "results['Switch_door'] = results['Switch_door'].map({'True': 'Player does switch_door','False': 'Player does not switch_door'})\n",
    "\n",
    "results"
   ]
  },
  {
   "cell_type": "code",
   "execution_count": 62,
   "metadata": {},
   "outputs": [
    {
     "data": {
      "image/png": "[encoded data removed]",
      "text/plain": [
       "<Figure size 720x720 with 1 Axes>"
      ]
     },
     "metadata": {
      "needs_background": "light"
     },
     "output_type": "display_data"
    }
   ],
   "source": [
    "fig = plt.figure(1, figsize = (10,10))\n",
    "ax = sea.barplot(data = results.melt(id_vars=['Switch_door']), y ='value', x = 'Switch_door')\n",
    "ax.set(ylim = (0, 100), ylabel = ('Win Percentage (%)'), xlabel = ('Choices'), title = ('Monty Hall Problem HW1'))\n",
    "plt.show()"
   ]
  },
  {
   "cell_type": "code",
   "execution_count": 63,
   "metadata": {},
   "outputs": [
    {
     "name": "stdout",
     "output_type": "stream",
     "text": [
      "99.56\n"
     ]
    }
   ],
   "source": [
    "total_probability = switch_frequency * 100 + no_switch_frequency * 100\n",
    "print(total_probability) # I am not getting it to add up to 100. Might be something to do with np.random.seed(123). I am also getting the same probability every time I run the code."
   ]
  },
  {
   "cell_type": "code",
   "execution_count": null,
   "metadata": {},
   "outputs": [],
   "source": []
  }
 ],
 "metadata": {
  "kernelspec": {
   "display_name": "Python 3",
   "language": "python",
   "name": "python3"
  },
  "language_info": {
   "codemirror_mode": {
    "name": "ipython",
    "version": 3
   },
   "file_extension": ".py",
   "mimetype": "text/x-python",
   "name": "python",
   "nbconvert_exporter": "python",
   "pygments_lexer": "ipython3",
   "version": "3.7.4"
  }
 },
 "nbformat": 4,
 "nbformat_minor": 2
}
