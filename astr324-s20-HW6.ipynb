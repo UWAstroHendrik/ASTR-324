{
 "cells": [
  {
   "cell_type": "code",
   "execution_count": 125,
   "metadata": {},
   "outputs": [],
   "source": [
    "hw_done = True"
   ]
  },
  {
   "cell_type": "markdown",
   "metadata": {},
   "source": [
    "# Homework 6\n",
    "### ASTR-324, University of Washington\n",
    "\n",
    "\n",
    "## Problem\n",
    "\n",
    "Quoting from [Sesar et al. (2017)](https://iopscience.iop.org/article/10.3847/1538-3881/aa661b):\n",
    "\n",
    "> RR Lyrae stars are old ($\\mathrm{age}\\gt 10$ Gyr), metal-poor ($[\\mathrm{Fe}/{\\rm{H}}]\\ \\lt \\ -0.5$ dex), pulsating horizontal branch stars with periodically variable light curves (periods ranging from 0.2 to 0.9 days; Smith 2004). They are bright stars (${M}_{{\\rm{V}}}=0.6\\pm 0.1$ mag) with distinct light curves, which makes them easy to identify with time-domain imaging surveys, even to large distances (5–120 kpc for surveys with a $14\\lt V\\lt 21$ magnitude range; e.g., Sesar et al. 2010). These properties, and the fact that almost every Milky Way dwarf satellite galaxy has at least one RR Lyrae star (including the faintest one, Segue 1; Simon et al. 2011), open up the exciting possibility of locating very-low-luminosity Milky Way dwarf satellites by using distant RR Lyrae stars, as first proposed by Sesar et al. (2014; also see Baker & Willman 2015).\n",
    "\n",
    "The file `data/rrlyra.dataset.txt` contains observations of a single RRLyrae, found in a dwarf galaxy, over approximately a 3-month period, with the first column being the time (in days), and the second column being the $i$-band magnitude, $m_i$.\n",
    "\n",
    "* Compute the average apparent magnitude of the RR Lyrae, $\\bar{m_i}$\n",
    "* Find the most likely period $P$ of the RR Lyrae, using a Lomb-Scargle periodogram.\n",
    "* RR-Lyrae observe a period-luminosity relation in the $i$ band:\n",
    "\n",
    "  $$ M_i = -1.77 \\log_{10} \\frac{P}{0.6\\,\\mathrm{days}} + 0.46 $$\n",
    "  \n",
    "  Use this relation, and the estimated period $P$, to estimate the absolute magnitude $M_i$ of this RR Lyra.\n",
    "* Using the RR Lyra's absolute magnitude $M_i$, and the average apparent magnitude $\\bar{m_i}$, estimate the distance to the dwarf galaxy where this star resides."
   ]
  },
  {
   "cell_type": "markdown",
   "metadata": {},
   "source": [
    "The data:"
   ]
  },
  {
   "cell_type": "code",
   "execution_count": 109,
   "metadata": {
    "scrolled": true
   },
   "outputs": [
    {
     "data": {
      "image/png": "[encoded data removed]",
      "text/plain": [
       "<Figure size 864x864 with 1 Axes>"
      ]
     },
     "metadata": {
      "needs_background": "light"
     },
     "output_type": "display_data"
    }
   ],
   "source": [
    "%matplotlib inline\n",
    "\n",
    "import numpy as np\n",
    "from matplotlib import pyplot as plt\n",
    "\n",
    "# read data\n",
    "data = np.loadtxt('data/rrlyra.dataset.txt', unpack=True)\n",
    "t, y_obs, sigma_y = data\n",
    "\n",
    "# plot data\n",
    "fig = plt.figure(figsize=(12, 12))\n",
    "ax = fig.add_axes([0.5, 0.7, 0.45, 0.25])\n",
    "ax.errorbar(t, y_obs, sigma_y, fmt='.', lw=1, c='k')\n",
    "ax.set_xlabel(r'$t$ (days)')\n",
    "ax.set_ylabel(r'$m_i$ (mag)')\n",
    "ax.invert_yaxis()"
   ]
  },
  {
   "cell_type": "markdown",
   "metadata": {},
   "source": [
    "## Solution"
   ]
  },
  {
   "cell_type": "code",
   "execution_count": 110,
   "metadata": {},
   "outputs": [],
   "source": [
    "# To remain consistent with the textbook, we'll use some functions that have \n",
    "# been deprecated in recent versions of astroML. This code silences the\n",
    "# distracting deprecation warnings related to these.\n",
    "\n",
    "import warnings\n",
    "from astroML.utils.exceptions import AstroMLDeprecationWarning\n",
    "warnings.filterwarnings(\"ignore\", category=AstroMLDeprecationWarning)"
   ]
  },
  {
   "cell_type": "code",
   "execution_count": 111,
   "metadata": {},
   "outputs": [],
   "source": [
    "def plot_phased(t, y_obs, P, ax = None):\n",
    "    if ax is None:\n",
    "        fig, ax = plt.subplots(figsize=(14,7))\n",
    "\n",
    "    phase = t / P - np.floor(t/P)\n",
    "    phase = phase + 0.5 - np.floor(phase + 0.5) ##\n",
    "    ax.errorbar(phase, y_obs, dy, fmt='.k', lw=1, ecolor='gray')\n",
    "    ax.set_xlabel('phase')\n",
    "    ax.set_ylabel('flux')\n",
    "    ax.set_xlim(-0.05, 1.05)\n",
    "    \n",
    "def plot_LS(t, y_obs, P_fit, sig1, sig5):\n",
    "    #------------------------------------------------------------\n",
    "    # Plot the results\n",
    "    fig = plt.figure(figsize=(14, 7))\n",
    "    fig.subplots_adjust(left=0.1, right=0.9, hspace=0.25)\n",
    "\n",
    "    # First panel: the data\n",
    "    ax = fig.add_subplot(211)\n",
    "    plot_phased(t, y_obs, P_fit, ax=ax)\n",
    "\n",
    "    # Second panel: the periodogram & significance levels\n",
    "    ax1 = fig.add_subplot(212, xscale='log')\n",
    "    ax1.plot(period, PS, '-', c='black', lw=1, zorder=1)\n",
    "    ax1.plot([period[0], period[-1]], [sig1, sig1], ':', c='black', label=\"99% significance level\")\n",
    "    ax1.plot([period[0], period[-1]], [sig5, sig5], '-.', c='black', label=\"95% significance level\")\n",
    "    ax1.legend()\n",
    "\n",
    "    ax1.annotate(\"\", (P_fit, 0.95), (P_fit, 1.10), ha='center', arrowprops=dict(arrowstyle='->'))\n",
    "\n",
    "    ax1.set_xlim(period[0], period[-1])\n",
    "    ax1.set_ylim(-0.05, 1.15)\n",
    "\n",
    "    ax1.set_xlabel(r'period (days)')\n",
    "    ax1.set_ylabel('power')\n",
    "\n",
    "    # Twin axis: label BIC on the right side\n",
    "    ax2 = ax1.twinx()\n",
    "    ax2.set_ylim(tuple(lomb_scargle_BIC(ax1.get_ylim(), y_obs, dy)))\n",
    "    ax2.set_ylabel(r'$\\Delta BIC$')\n",
    "\n",
    "    ax1.xaxis.set_major_formatter(plt.FormatStrFormatter('%.1f'))\n",
    "    ax1.xaxis.set_minor_formatter(plt.FormatStrFormatter('%.1f'))\n",
    "    ax1.xaxis.set_major_locator(plt.LogLocator(10))\n",
    "    ax1.xaxis.set_major_formatter(plt.FormatStrFormatter('%.3g'))\n",
    "\n",
    "    plt.show()"
   ]
  },
  {
   "cell_type": "code",
   "execution_count": 112,
   "metadata": {},
   "outputs": [],
   "source": [
    "dy = t*0 + 0.2"
   ]
  },
  {
   "cell_type": "code",
   "execution_count": 113,
   "metadata": {},
   "outputs": [],
   "source": [
    "from astroML.time_series import lomb_scargle, lomb_scargle_BIC, lomb_scargle_bootstrap\n",
    "\n",
    "#------------------------------------------------------------\n",
    "# Compute periodogram\n",
    "period = 10 ** np.linspace(-1, 0, 10000)\n",
    "omega = 2 * np.pi / period\n",
    "PS = lomb_scargle(t, y_obs, dy, omega, generalized=True)\n",
    "\n",
    "# find the highest peak\n",
    "P_fit = period[PS.argmax()]\n",
    "\n",
    "#------------------------------------------------------------\n",
    "# Get significance via bootstrap\n",
    "D = lomb_scargle_bootstrap(t, y_obs, dy, omega, generalized=True,\n",
    "                           N_bootstraps=500, random_state=0)\n",
    "sig1, sig5 = np.percentile(D, [99, 95])"
   ]
  },
  {
   "cell_type": "code",
   "execution_count": 114,
   "metadata": {},
   "outputs": [
    {
     "data": {
      "image/png": "[encoded data removed]",
      "text/plain": [
       "<Figure size 1008x504 with 3 Axes>"
      ]
     },
     "metadata": {
      "needs_background": "light"
     },
     "output_type": "display_data"
    },
    {
     "name": "stdout",
     "output_type": "stream",
     "text": [
      "Location of highest periodogram peak, P_fit = 0.420 days\n"
     ]
    }
   ],
   "source": [
    "plot_LS(t, y_obs, P_fit, sig1, sig5)\n",
    "print(f\"Location of highest periodogram peak, P_fit = {P_fit:.3f} days\")"
   ]
  },
  {
   "cell_type": "code",
   "execution_count": 115,
   "metadata": {},
   "outputs": [],
   "source": [
    "from statistics import mean\n",
    "import math"
   ]
  },
  {
   "cell_type": "code",
   "execution_count": 116,
   "metadata": {},
   "outputs": [
    {
     "name": "stdout",
     "output_type": "stream",
     "text": [
      "18.781323088958246\n"
     ]
    }
   ],
   "source": [
    "average_apparent_magnitude = mean(y_obs)\n",
    "print(average_apparent_magnitude)"
   ]
  },
  {
   "cell_type": "code",
   "execution_count": 117,
   "metadata": {},
   "outputs": [],
   "source": [
    "period = P_fit"
   ]
  },
  {
   "cell_type": "code",
   "execution_count": 118,
   "metadata": {},
   "outputs": [],
   "source": [
    "#def absolute_magnitude(period):\n",
    "    #absolute_magnitude = -1.77 * math.log10((period)/(0.6)) + 0.46\n",
    "    #return(absolute_magnitude)"
   ]
  },
  {
   "cell_type": "code",
   "execution_count": 119,
   "metadata": {},
   "outputs": [],
   "source": [
    "#absolute_magnitude"
   ]
  },
  {
   "cell_type": "code",
   "execution_count": 120,
   "metadata": {},
   "outputs": [],
   "source": [
    "absolute_magnitude = -1.77 * math.log10((period)/(0.6)) + 0.46"
   ]
  },
  {
   "cell_type": "code",
   "execution_count": 121,
   "metadata": {},
   "outputs": [
    {
     "data": {
      "text/plain": [
       "0.734330413449076"
      ]
     },
     "execution_count": 121,
     "metadata": {},
     "output_type": "execute_result"
    }
   ],
   "source": [
    "absolute_magnitude"
   ]
  },
  {
   "cell_type": "code",
   "execution_count": 122,
   "metadata": {},
   "outputs": [],
   "source": [
    "distance_modulus = (10) * 10**((average_apparent_magnitude - absolute_magnitude)/5)"
   ]
  },
  {
   "cell_type": "code",
   "execution_count": 123,
   "metadata": {},
   "outputs": [
    {
     "data": {
      "text/plain": [
       "40681.64775364704"
      ]
     },
     "execution_count": 123,
     "metadata": {},
     "output_type": "execute_result"
    }
   ],
   "source": [
    "distance_modulus"
   ]
  },
  {
   "cell_type": "code",
   "execution_count": 124,
   "metadata": {},
   "outputs": [
    {
     "name": "stdout",
     "output_type": "stream",
     "text": [
      "The estimated distance to the dwarf galaxy where the RR Layrae star resides : 40681.64775364704 pc\n"
     ]
    }
   ],
   "source": [
    "print(\"The estimated distance to the dwarf galaxy where the RR Layrae star resides :\", distance_modulus, \"pc\")"
   ]
  },
  {
   "cell_type": "code",
   "execution_count": null,
   "metadata": {},
   "outputs": [],
   "source": []
  }
 ],
 "metadata": {
  "kernelspec": {
   "display_name": "Python 3",
   "language": "python",
   "name": "python3"
  },
  "language_info": {
   "codemirror_mode": {
    "name": "ipython",
    "version": 3
   },
   "file_extension": ".py",
   "mimetype": "text/x-python",
   "name": "python",
   "nbconvert_exporter": "python",
   "pygments_lexer": "ipython3",
   "version": "3.7.4"
  }
 },
 "nbformat": 4,
 "nbformat_minor": 2
}
